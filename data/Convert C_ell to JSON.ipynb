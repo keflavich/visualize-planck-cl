{
 "metadata": {
  "name": ""
 },
 "nbformat": 3,
 "nbformat_minor": 0,
 "worksheets": [
  {
   "cells": [
    {
     "cell_type": "code",
     "collapsed": false,
     "input": [
      "from glob import glob\n",
      "import pandas as pd\n",
      "import pyfits\n",
      "import json"
     ],
     "language": "python",
     "metadata": {},
     "outputs": []
    },
    {
     "cell_type": "code",
     "collapsed": false,
     "input": [
      "def to_json(cl, name):\n",
      "    cl.index = np.round(np.float64(cl.index), 2)\n",
      "    cl = np.round(cl, 2)\n",
      "    cl_json = []\n",
      "    for ell, value in cl.iteritems():\n",
      "        cl_json.append({\"x\":ell, \"y\":value})\n",
      "    with open(name + \".json\", \"w\") as f:\n",
      "        json.dump(cl_json, f)"
     ],
     "language": "python",
     "metadata": {},
     "outputs": []
    },
    {
     "cell_type": "code",
     "collapsed": false,
     "input": [
      "def compute_llp1(ell):\n",
      "    return ell * (ell+1) / 2. / np.pi\n",
      "\n",
      "def compute_power(ell):\n",
      "    return (2*ell+1) / 4. / np.pi\n",
      "\n",
      "def weighted_average(g):\n",
      "    weights = compute_power(g.index)\n",
      "    return g.mul(weights, axis=\"index\").sum()/weights.sum() \n",
      "\n",
      "def bin_cl(cl):\n",
      "    ctp_binning = pd.read_csv(\"planck_ctp_bin.csv\")\n",
      "    ctp_binning = ctp_binning[0:ctp_binning[\"last l\"].searchsorted(2000)+1]\n",
      "    bins = pd.cut(cl.index, bins=np.concatenate([[1], ctp_binning[\"last l\"]]))\n",
      "    cl[\"ell\"] = np.float64(cl.index)\n",
      "    binned_cl = cl.groupby(bins).apply(weighted_average)\n",
      "    binned_cl = binned_cl.set_index(\"ell\")\n",
      "    return binned_cl"
     ],
     "language": "python",
     "metadata": {},
     "outputs": []
    },
    {
     "cell_type": "code",
     "collapsed": false,
     "input": [
      "bestfit_cl = pd.read_csv(\"base_planck_tauprior_highL_post_lensing.bestfit_cl\", delim_whitespace=True, names=[\"ell\", \"TT\", \"TE\", \"EE\", \"BB\", \"TB\"] ).set_index(\"ell\")"
     ],
     "language": "python",
     "metadata": {},
     "outputs": []
    },
    {
     "cell_type": "code",
     "collapsed": false,
     "input": [
      "combined = pyfits.open(\"COM_PowerSpect_CMB_R1.10.fits\")\n",
      "combined.info()"
     ],
     "language": "python",
     "metadata": {},
     "outputs": []
    },
    {
     "cell_type": "code",
     "collapsed": false,
     "input": [
      "combined_cl = pd.Series(combined[\"LOW-ELL\"].data[\"D_ELL\"], index=combined[\"LOW-ELL\"].data[\"ELL\"]).ix[:46]"
     ],
     "language": "python",
     "metadata": {},
     "outputs": []
    },
    {
     "cell_type": "code",
     "collapsed": false,
     "input": [
      "combined_cl.tail()"
     ],
     "language": "python",
     "metadata": {},
     "outputs": []
    },
    {
     "cell_type": "code",
     "collapsed": false,
     "input": [
      "combined_cl = combined_cl.append(pd.Series(combined[\"HIGH-ELL\"].data[\"D_ELL\"], index=combined[\"HIGH-ELL\"].data[\"ELL\"]))"
     ],
     "language": "python",
     "metadata": {},
     "outputs": []
    },
    {
     "cell_type": "code",
     "collapsed": false,
     "input": [
      "to_json(bestfit_cl.TT[bestfit_cl.index <= combined_cl.index[-1]], \"bestfit\")"
     ],
     "language": "python",
     "metadata": {},
     "outputs": []
    },
    {
     "cell_type": "code",
     "collapsed": false,
     "input": [
      "combined_cl = np.float64(combined_cl)"
     ],
     "language": "python",
     "metadata": {},
     "outputs": []
    },
    {
     "cell_type": "code",
     "collapsed": false,
     "input": [
      "combined_cl.plot()"
     ],
     "language": "python",
     "metadata": {},
     "outputs": []
    },
    {
     "cell_type": "code",
     "collapsed": false,
     "input": [
      "to_json(combined_cl, \"combined\")"
     ],
     "language": "python",
     "metadata": {},
     "outputs": []
    },
    {
     "cell_type": "code",
     "collapsed": false,
     "input": [
      "for filename in sorted(glob(\"LFI_PowerSpe*fits\")):\n",
      "    tag = filename.split(\"_\")[2]\n",
      "    print tag\n",
      "    f = pyfits.open(filename)\n",
      "    cl = pd.Series(f[1].data[\"TEMP_CL\"], index=f[1].data[\"L\"])\n",
      "    to_json(cl, tag)"
     ],
     "language": "python",
     "metadata": {},
     "outputs": []
    },
    {
     "cell_type": "code",
     "collapsed": false,
     "input": [
      "np.round(np.float64(cl.index), 2)"
     ],
     "language": "python",
     "metadata": {},
     "outputs": []
    },
    {
     "cell_type": "code",
     "collapsed": false,
     "input": [
      "np.float64(cl.index)"
     ],
     "language": "python",
     "metadata": {},
     "outputs": []
    },
    {
     "cell_type": "code",
     "collapsed": false,
     "input": [
      "cl_binned = {}\n",
      "for filename in sorted(glob(\"HFI_PowerSpe*fits\")):\n",
      "    tag = filename.split(\"_\")[2]\n",
      "    print tag\n",
      "    f = pyfits.open(filename)\n",
      "    cl = pd.Series(np.float64(f[1].data[\"TEMP_CL\"].byteswap().newbyteorder()))\n",
      "    cl_binned[tag] = bin_cl(pd.DataFrame({\"TT\":cl})).TT\n",
      "    cl_binned[tag] *= np.array(compute_llp1(cl_binned[tag].index))\n",
      "    if tag.startswith(\"100\"):\n",
      "        cl_binned[tag] = cl_binned[tag][cl_binned[tag].index<1400]\n",
      "    to_json(cl_binned[tag].astype(np.float64), tag)"
     ],
     "language": "python",
     "metadata": {},
     "outputs": []
    },
    {
     "cell_type": "code",
     "collapsed": false,
     "input": [
      "wmap_bin = pd.DataFrame(np.loadtxt(\"wmap_binned_tt_spectrum_9yr_v5.txt\"), columns=[\"ell\", \"ell_min\", \"ell_max\", \"TT\", \"err\", \"err_meas\", \"err_cv\"]).set_index(\"ell\")"
     ],
     "language": "python",
     "metadata": {},
     "outputs": []
    },
    {
     "cell_type": "code",
     "collapsed": false,
     "input": [
      "wmap = pd.DataFrame(np.loadtxt(\"wmap_tt_spectrum_9yr_v5.txt\"), columns=[\"ell\", \"TT\", \"err\", \"err_meas\", \"err_cv\"]).set_index(\"ell\")"
     ],
     "language": "python",
     "metadata": {},
     "outputs": []
    },
    {
     "cell_type": "code",
     "collapsed": false,
     "input": [
      "wmap.TT.plot()"
     ],
     "language": "python",
     "metadata": {},
     "outputs": []
    },
    {
     "cell_type": "code",
     "collapsed": false,
     "input": [
      "wmap_merge = wmap[wmap.index <= 47].append(wmap_bin[wmap_bin.index > 47])"
     ],
     "language": "python",
     "metadata": {},
     "outputs": []
    },
    {
     "cell_type": "code",
     "collapsed": false,
     "input": [
      "wmap_merge.TT.plot()"
     ],
     "language": "python",
     "metadata": {},
     "outputs": []
    },
    {
     "cell_type": "code",
     "collapsed": false,
     "input": [
      "to_json(wmap_merge.TT, \"wmap9\")"
     ],
     "language": "python",
     "metadata": {},
     "outputs": []
    }
   ],
   "metadata": {}
  }
 ]
}